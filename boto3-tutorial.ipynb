{
 "cells": [
  {
   "cell_type": "markdown",
   "metadata": {},
   "source": [
    "# Boto3 & LocalStudio\n",
    "\n",
    "![Boto3 & LocalStudio image](img/s3-10.png)\n",
    "\n",
    "\n",
    "## 🏠 What is localstack?\n",
    "\n",
    "**Localstack** is a platform that provides a local version of several cloud services, allowing you to simulate a development environment with AWS services. This allows you to debug and refine your code before deploying it to a production environment. For this reason, Localstack is a valuable tool for emulating essential AWS services such as object storage and message queues, among others.\n",
    "\n",
    "Also, **Localstack** serves as an effective tool for learning to implement and deploy services using a Docker container without the need for an AWS account or the use of your credit card. \n",
    "In this tutorial, we create a Localstack container to implement the main functionalities of S3 services.\n",
    "\n",
    "---\n",
    "\n",
    "## What is boto3?\n",
    "\n",
    "**`Boto3`** is a 🐍 Python library that allows the integration with AWS services, facilitating various tasks such as creation, management, and configuration of these services.\n",
    "\n",
    "There are two primary implementations within Boto3: \n",
    "* **Resource implementation**: provides a higher-level, object-oriented interface, abstracting away low-level details and offering simplified interactions with AWS services. \n",
    "* **Client implementation**: offers a lower-level, service-oriented interface, providing more granular control and flexibility for interacting with AWS services directly.\n",
    "\n",
    "\n",
    "---\n",
    "\n",
    "## Prerequisites\n",
    "Before you begin, ensure that you have the following installed:\n",
    "\n",
    "* 🐳 Docker\n",
    "* 🐙 Docker Compose\n",
    "\n",
    "\n",
    "---\n",
    "\n",
    "### 🚀 Build and run the Docker Compose environment\n",
    "\n",
    "#### 1. Clone the repository\n",
    " ```bash\n",
    "   git clone https://github.com/r0mymendez/LocalStack-boto3.git\n",
    "   cd LocalStack-boto3\n",
    "```\n",
    "#### 2. Build an run the docker compose \n",
    "  \n",
    "`docker-compose -f docker-compose.yaml up --build`\n",
    "\n",
    "---\n",
    "\n",
    "### 🚀 Using LocalStack with Boto3: A Step-by-Step Guide\n",
    "### 🛠️ Install Boto3\n",
    "\n",
    "```!pip install boto3```\n",
    "\n",
    "\n"
   ]
  },
  {
   "cell_type": "code",
   "execution_count": 109,
   "metadata": {},
   "outputs": [],
   "source": [
    "import boto3\n",
    "import json \n",
    "import requests\n",
    "import pandas as pd\n",
    "from datetime import datetime\n",
    "import io\n",
    "import os"
   ]
  },
  {
   "cell_type": "markdown",
   "metadata": {},
   "source": [
    "### 🛠️ Create a session using the localstack endpoint\n",
    "The following code snippet initializes a client for accessing the S3 service using the LocalStack endpoint."
   ]
  },
  {
   "cell_type": "code",
   "execution_count": 29,
   "metadata": {},
   "outputs": [],
   "source": [
    "\n",
    "s3 = boto3.client(\n",
    "    service_name='s3',\n",
    "    aws_access_key_id='test',\n",
    "    aws_secret_access_key='test',\n",
    "    endpoint_url='http://localhost:4566',\n",
    ")"
   ]
  },
  {
   "cell_type": "markdown",
   "metadata": {},
   "source": [
    "### 🛠️ Create new buckets\n",
    "Below is the code snippet to create new buckets using the Boto3 library"
   ]
  },
  {
   "cell_type": "code",
   "execution_count": 55,
   "metadata": {},
   "outputs": [
    {
     "data": {
      "text/plain": [
       "{'ResponseMetadata': {'RequestId': 'b421bab1-f7d4-4da5-9559-99a9be7132d6',\n",
       "  'HostId': 's9lzHYrFp76ZVxRcpX9+5cjAnEH2ROuNkd2BHfIa6UkFVdtjf5mKR3/eTPFvsiP/XV/VLi31234=',\n",
       "  'HTTPStatusCode': 200,\n",
       "  'HTTPHeaders': {'content-type': 'application/xml',\n",
       "   'access-control-allow-origin': '*',\n",
       "   'access-control-allow-methods': 'HEAD,GET,PUT,POST,DELETE,OPTIONS,PATCH',\n",
       "   'access-control-allow-headers': 'authorization,cache-control,content-length,content-md5,content-type,etag,location,x-amz-acl,x-amz-content-sha256,x-amz-date,x-amz-request-id,x-amz-security-token,x-amz-tagging,x-amz-target,x-amz-user-agent,x-amz-version-id,x-amzn-requestid,x-localstack-target,amz-sdk-invocation-id,amz-sdk-request',\n",
       "   'access-control-expose-headers': 'etag,x-amz-version-id',\n",
       "   'vary': 'Origin',\n",
       "   'location': '/news-config',\n",
       "   'x-amz-request-id': 'b421bab1-f7d4-4da5-9559-99a9be7132d6',\n",
       "   'x-amz-id-2': 's9lzHYrFp76ZVxRcpX9+5cjAnEH2ROuNkd2BHfIa6UkFVdtjf5mKR3/eTPFvsiP/XV/VLi31234=',\n",
       "   'connection': 'close',\n",
       "   'content-length': '0',\n",
       "   'date': 'Sun, 11 Feb 2024 16:45:50 GMT',\n",
       "   'server': 'hypercorn-h11'},\n",
       "  'RetryAttempts': 0},\n",
       " 'Location': '/news-config'}"
      ]
     },
     "execution_count": 55,
     "metadata": {},
     "output_type": "execute_result"
    }
   ],
   "source": [
    "# create buckets\n",
    "bucket_name_news = 'news'\n",
    "bucket_name_config = 'news-config'\n",
    "\n",
    "s3.create_bucket(Bucket= bucket_name_new )\n",
    "s3.create_bucket(Bucket=bucket_name_config)"
   ]
  },
  {
   "cell_type": "markdown",
   "metadata": {},
   "source": [
    "### 📋 List all buckets\n",
    "After creating a bucket, you can use the following code to list all the buckets available at your endpoint."
   ]
  },
  {
   "cell_type": "code",
   "execution_count": 56,
   "metadata": {},
   "outputs": [
    {
     "data": {
      "text/html": [
       "<div>\n",
       "<style scoped>\n",
       "    .dataframe tbody tr th:only-of-type {\n",
       "        vertical-align: middle;\n",
       "    }\n",
       "\n",
       "    .dataframe tbody tr th {\n",
       "        vertical-align: top;\n",
       "    }\n",
       "\n",
       "    .dataframe thead th {\n",
       "        text-align: right;\n",
       "    }\n",
       "</style>\n",
       "<table border=\"1\" class=\"dataframe\">\n",
       "  <thead>\n",
       "    <tr style=\"text-align: right;\">\n",
       "      <th></th>\n",
       "      <th>Name</th>\n",
       "      <th>CreationDate</th>\n",
       "    </tr>\n",
       "  </thead>\n",
       "  <tbody>\n",
       "    <tr>\n",
       "      <th>0</th>\n",
       "      <td>news</td>\n",
       "      <td>2024-02-11 13:34:50+00:00</td>\n",
       "    </tr>\n",
       "    <tr>\n",
       "      <th>1</th>\n",
       "      <td>news-config</td>\n",
       "      <td>2024-02-11 13:34:50+00:00</td>\n",
       "    </tr>\n",
       "  </tbody>\n",
       "</table>\n",
       "</div>"
      ],
      "text/plain": [
       "          Name              CreationDate\n",
       "0         news 2024-02-11 13:34:50+00:00\n",
       "1  news-config 2024-02-11 13:34:50+00:00"
      ]
     },
     "execution_count": 56,
     "metadata": {},
     "output_type": "execute_result"
    }
   ],
   "source": [
    "# List all buckets\n",
    "response = s3.list_buckets()\n",
    "pd.json_normalize(response['Buckets'])"
   ]
  },
  {
   "cell_type": "markdown",
   "metadata": {},
   "source": [
    "### 📤 Upload the JSON file to s3\n",
    "Once we extract data from the API to gather information about news topics, the following code generates a JSON file and uploads it to the S3 bucket previously created."
   ]
  },
  {
   "cell_type": "code",
   "execution_count": 57,
   "metadata": {},
   "outputs": [
    {
     "name": "stdout",
     "output_type": "stream",
     "text": [
      "data ['US', 'World', 'Business', 'Technology', 'Entertainment', 'Sports', 'Science', 'Health']\n"
     ]
    }
   ],
   "source": [
    "# invoke the config news\n",
    "url = 'https://ok.surf/api/v1/cors/news-section-names' \n",
    "response = requests.get(url)\n",
    "if response.status_code==200:\n",
    "    data = response.json()\n",
    "    # ad json file to s3\n",
    "    print('data', data)\n",
    "    # upload the data to s3\n",
    "    s3.put_object(Bucket=bucket_name_config, Key='news-section/data_config.json', Body=json.dumps(data))\n",
    "\n"
   ]
  },
  {
   "cell_type": "markdown",
   "metadata": {},
   "source": [
    "### 📋 List all objects\n",
    "Now, let's list all the objects stored in our bucket. Since we might have stored a JSON file in the previous step, we'll include code to retrieve all objects from the bucket."
   ]
  },
  {
   "cell_type": "code",
   "execution_count": 77,
   "metadata": {},
   "outputs": [],
   "source": [
    "def list_objects(bucket_name):\n",
    "    response = s3.list_objects(Bucket=bucket_name)\n",
    "    return pd.json_normalize(response['Contents'])"
   ]
  },
  {
   "cell_type": "code",
   "execution_count": 78,
   "metadata": {},
   "outputs": [
    {
     "data": {
      "text/html": [
       "<div>\n",
       "<style scoped>\n",
       "    .dataframe tbody tr th:only-of-type {\n",
       "        vertical-align: middle;\n",
       "    }\n",
       "\n",
       "    .dataframe tbody tr th {\n",
       "        vertical-align: top;\n",
       "    }\n",
       "\n",
       "    .dataframe thead th {\n",
       "        text-align: right;\n",
       "    }\n",
       "</style>\n",
       "<table border=\"1\" class=\"dataframe\">\n",
       "  <thead>\n",
       "    <tr style=\"text-align: right;\">\n",
       "      <th></th>\n",
       "      <th>Key</th>\n",
       "      <th>LastModified</th>\n",
       "      <th>ETag</th>\n",
       "      <th>Size</th>\n",
       "      <th>StorageClass</th>\n",
       "      <th>Owner.DisplayName</th>\n",
       "      <th>Owner.ID</th>\n",
       "    </tr>\n",
       "  </thead>\n",
       "  <tbody>\n",
       "    <tr>\n",
       "      <th>0</th>\n",
       "      <td>news-section/data_config.json</td>\n",
       "      <td>2024-02-11 16:45:59+00:00</td>\n",
       "      <td>\"d61029b184d21dae1febcb46062216d3\"</td>\n",
       "      <td>89</td>\n",
       "      <td>STANDARD</td>\n",
       "      <td>webfile</td>\n",
       "      <td>75aa57f09aa0c8caeab4f8c24e99d10f8e7faeebf76c07...</td>\n",
       "    </tr>\n",
       "  </tbody>\n",
       "</table>\n",
       "</div>"
      ],
      "text/plain": [
       "                             Key              LastModified  \\\n",
       "0  news-section/data_config.json 2024-02-11 16:45:59+00:00   \n",
       "\n",
       "                                 ETag  Size StorageClass Owner.DisplayName  \\\n",
       "0  \"d61029b184d21dae1febcb46062216d3\"    89     STANDARD           webfile   \n",
       "\n",
       "                                            Owner.ID  \n",
       "0  75aa57f09aa0c8caeab4f8c24e99d10f8e7faeebf76c07...  "
      ]
     },
     "execution_count": 78,
     "metadata": {},
     "output_type": "execute_result"
    }
   ],
   "source": [
    "# list all objects in the bucket\n",
    "list_objects(bucket_name=bucket_name_config)"
   ]
  },
  {
   "cell_type": "markdown",
   "metadata": {},
   "source": [
    "###  📄 Upload multiple CSV files to s3 \n",
    "In the following code snippet, we will request another method from the API to extract news for each topic. Subsequently, we will create different folders in the bucket to save CSV files containing the news for each topic. This code enables you to save multiple files in the same bucket while organizing them into folders based on the topic and the date of the data request."
   ]
  },
  {
   "cell_type": "code",
   "execution_count": 59,
   "metadata": {},
   "outputs": [],
   "source": [
    "# Request the news feed API Method\n",
    "url = 'https://ok.surf/api/v1/news-feed' \n",
    "response = requests.get(url)\n",
    "if response.status_code==200:\n",
    "    data = response.json()\n",
    "\n",
    "# Add the json file to s3\n",
    "folder_dt =  f'dt={datetime.now().strftime(\"%Y%m%d\")}'\n",
    "\n",
    "for item in data.keys():\n",
    "    tmp = pd.json_normalize(data[item])\n",
    "    tmp['section'] = item   \n",
    "    tmp['download_date'] = datetime.now()\n",
    "    tmp['date'] = pd.to_datetime(tmp['download_date']).dt.date\n",
    "    path = f\"s3://{bucket_name_news}/{item}/{folder_dt}/data_{item}_news.csv\"\n",
    "\n",
    "    # upload multiple files to s3\n",
    "    bytes_io = io.BytesIO()\n",
    "    tmp.to_csv(bytes_io, index=False)\n",
    "    bytes_io.seek(0)\n",
    "    s3.put_object(Bucket=bucket_name_news, Key=path, Body=bytes_io)\n",
    "\n"
   ]
  },
  {
   "cell_type": "code",
   "execution_count": 76,
   "metadata": {},
   "outputs": [
    {
     "data": {
      "text/html": [
       "<div>\n",
       "<style scoped>\n",
       "    .dataframe tbody tr th:only-of-type {\n",
       "        vertical-align: middle;\n",
       "    }\n",
       "\n",
       "    .dataframe tbody tr th {\n",
       "        vertical-align: top;\n",
       "    }\n",
       "\n",
       "    .dataframe thead th {\n",
       "        text-align: right;\n",
       "    }\n",
       "</style>\n",
       "<table border=\"1\" class=\"dataframe\">\n",
       "  <thead>\n",
       "    <tr style=\"text-align: right;\">\n",
       "      <th></th>\n",
       "      <th>Key</th>\n",
       "      <th>LastModified</th>\n",
       "      <th>ETag</th>\n",
       "      <th>Size</th>\n",
       "      <th>StorageClass</th>\n",
       "      <th>Owner.DisplayName</th>\n",
       "      <th>Owner.ID</th>\n",
       "    </tr>\n",
       "  </thead>\n",
       "  <tbody>\n",
       "    <tr>\n",
       "      <th>0</th>\n",
       "      <td>s3://news/Business/dt=20240211/data_Business_n...</td>\n",
       "      <td>2024-02-11 16:54:44+00:00</td>\n",
       "      <td>\"726c3efe54a64430696e9b439b86359d\"</td>\n",
       "      <td>47379</td>\n",
       "      <td>STANDARD</td>\n",
       "      <td>webfile</td>\n",
       "      <td>75aa57f09aa0c8caeab4f8c24e99d10f8e7faeebf76c07...</td>\n",
       "    </tr>\n",
       "    <tr>\n",
       "      <th>1</th>\n",
       "      <td>s3://news/Entertainment/dt=20240211/data_Enter...</td>\n",
       "      <td>2024-02-11 16:54:45+00:00</td>\n",
       "      <td>\"98077f8ac226ed86dedc1386d9d5a83d\"</td>\n",
       "      <td>48912</td>\n",
       "      <td>STANDARD</td>\n",
       "      <td>webfile</td>\n",
       "      <td>75aa57f09aa0c8caeab4f8c24e99d10f8e7faeebf76c07...</td>\n",
       "    </tr>\n",
       "    <tr>\n",
       "      <th>2</th>\n",
       "      <td>s3://news/Health/dt=20240211/data_Health_news.csv</td>\n",
       "      <td>2024-02-11 16:54:45+00:00</td>\n",
       "      <td>\"fdef00b0c81c43688ac13070711b8fcd\"</td>\n",
       "      <td>48812</td>\n",
       "      <td>STANDARD</td>\n",
       "      <td>webfile</td>\n",
       "      <td>75aa57f09aa0c8caeab4f8c24e99d10f8e7faeebf76c07...</td>\n",
       "    </tr>\n",
       "    <tr>\n",
       "      <th>3</th>\n",
       "      <td>s3://news/Science/dt=20240211/data_Science_new...</td>\n",
       "      <td>2024-02-11 16:54:45+00:00</td>\n",
       "      <td>\"f09bbefec5f3d2ebe735c350ba94cf04\"</td>\n",
       "      <td>41337</td>\n",
       "      <td>STANDARD</td>\n",
       "      <td>webfile</td>\n",
       "      <td>75aa57f09aa0c8caeab4f8c24e99d10f8e7faeebf76c07...</td>\n",
       "    </tr>\n",
       "    <tr>\n",
       "      <th>4</th>\n",
       "      <td>s3://news/Sports/dt=20240211/data_Sports_news.csv</td>\n",
       "      <td>2024-02-11 16:54:45+00:00</td>\n",
       "      <td>\"63f410354b8428f0f3b8bb6c410da9ef\"</td>\n",
       "      <td>44785</td>\n",
       "      <td>STANDARD</td>\n",
       "      <td>webfile</td>\n",
       "      <td>75aa57f09aa0c8caeab4f8c24e99d10f8e7faeebf76c07...</td>\n",
       "    </tr>\n",
       "    <tr>\n",
       "      <th>5</th>\n",
       "      <td>s3://news/Technology/dt=20240211/data_Technolo...</td>\n",
       "      <td>2024-02-11 16:54:46+00:00</td>\n",
       "      <td>\"0ccf318f020879415b4427e6089e830d\"</td>\n",
       "      <td>46095</td>\n",
       "      <td>STANDARD</td>\n",
       "      <td>webfile</td>\n",
       "      <td>75aa57f09aa0c8caeab4f8c24e99d10f8e7faeebf76c07...</td>\n",
       "    </tr>\n",
       "    <tr>\n",
       "      <th>6</th>\n",
       "      <td>s3://news/US/dt=20240211/data_US_news.csv</td>\n",
       "      <td>2024-02-11 16:54:46+00:00</td>\n",
       "      <td>\"3dbaee3dca2c9f558f142df702a74c00\"</td>\n",
       "      <td>48665</td>\n",
       "      <td>STANDARD</td>\n",
       "      <td>webfile</td>\n",
       "      <td>75aa57f09aa0c8caeab4f8c24e99d10f8e7faeebf76c07...</td>\n",
       "    </tr>\n",
       "    <tr>\n",
       "      <th>7</th>\n",
       "      <td>s3://news/World/dt=20240211/data_World_news.csv</td>\n",
       "      <td>2024-02-11 16:54:46+00:00</td>\n",
       "      <td>\"2d8ecaf9f961f9b1040da9ede525654d\"</td>\n",
       "      <td>46466</td>\n",
       "      <td>STANDARD</td>\n",
       "      <td>webfile</td>\n",
       "      <td>75aa57f09aa0c8caeab4f8c24e99d10f8e7faeebf76c07...</td>\n",
       "    </tr>\n",
       "  </tbody>\n",
       "</table>\n",
       "</div>"
      ],
      "text/plain": [
       "                                                 Key  \\\n",
       "0  s3://news/Business/dt=20240211/data_Business_n...   \n",
       "1  s3://news/Entertainment/dt=20240211/data_Enter...   \n",
       "2  s3://news/Health/dt=20240211/data_Health_news.csv   \n",
       "3  s3://news/Science/dt=20240211/data_Science_new...   \n",
       "4  s3://news/Sports/dt=20240211/data_Sports_news.csv   \n",
       "5  s3://news/Technology/dt=20240211/data_Technolo...   \n",
       "6          s3://news/US/dt=20240211/data_US_news.csv   \n",
       "7    s3://news/World/dt=20240211/data_World_news.csv   \n",
       "\n",
       "               LastModified                                ETag   Size  \\\n",
       "0 2024-02-11 16:54:44+00:00  \"726c3efe54a64430696e9b439b86359d\"  47379   \n",
       "1 2024-02-11 16:54:45+00:00  \"98077f8ac226ed86dedc1386d9d5a83d\"  48912   \n",
       "2 2024-02-11 16:54:45+00:00  \"fdef00b0c81c43688ac13070711b8fcd\"  48812   \n",
       "3 2024-02-11 16:54:45+00:00  \"f09bbefec5f3d2ebe735c350ba94cf04\"  41337   \n",
       "4 2024-02-11 16:54:45+00:00  \"63f410354b8428f0f3b8bb6c410da9ef\"  44785   \n",
       "5 2024-02-11 16:54:46+00:00  \"0ccf318f020879415b4427e6089e830d\"  46095   \n",
       "6 2024-02-11 16:54:46+00:00  \"3dbaee3dca2c9f558f142df702a74c00\"  48665   \n",
       "7 2024-02-11 16:54:46+00:00  \"2d8ecaf9f961f9b1040da9ede525654d\"  46466   \n",
       "\n",
       "  StorageClass Owner.DisplayName  \\\n",
       "0     STANDARD           webfile   \n",
       "1     STANDARD           webfile   \n",
       "2     STANDARD           webfile   \n",
       "3     STANDARD           webfile   \n",
       "4     STANDARD           webfile   \n",
       "5     STANDARD           webfile   \n",
       "6     STANDARD           webfile   \n",
       "7     STANDARD           webfile   \n",
       "\n",
       "                                            Owner.ID  \n",
       "0  75aa57f09aa0c8caeab4f8c24e99d10f8e7faeebf76c07...  \n",
       "1  75aa57f09aa0c8caeab4f8c24e99d10f8e7faeebf76c07...  \n",
       "2  75aa57f09aa0c8caeab4f8c24e99d10f8e7faeebf76c07...  \n",
       "3  75aa57f09aa0c8caeab4f8c24e99d10f8e7faeebf76c07...  \n",
       "4  75aa57f09aa0c8caeab4f8c24e99d10f8e7faeebf76c07...  \n",
       "5  75aa57f09aa0c8caeab4f8c24e99d10f8e7faeebf76c07...  \n",
       "6  75aa57f09aa0c8caeab4f8c24e99d10f8e7faeebf76c07...  \n",
       "7  75aa57f09aa0c8caeab4f8c24e99d10f8e7faeebf76c07...  "
      ]
     },
     "execution_count": 76,
     "metadata": {},
     "output_type": "execute_result"
    }
   ],
   "source": [
    "# list all objects in the bucket\n",
    "list_objects(bucket_name=bucket_name_news)\n"
   ]
  },
  {
   "cell_type": "markdown",
   "metadata": {},
   "source": [
    "###  📄 Read csv file from s3 \n",
    "In this section, we aim to read a file containing news about technology topics from S3. To accomplish this, we first retrieve the name of the file in the bucket. Then, we read this file and print the contents as a pandas dataframe."
   ]
  },
  {
   "cell_type": "code",
   "execution_count": 88,
   "metadata": {},
   "outputs": [
    {
     "name": "stdout",
     "output_type": "stream",
     "text": [
      "file_name s3://news/Technology/dt=20240211/data_Technology_news.csv\n"
     ]
    }
   ],
   "source": [
    "# Get the technology file\n",
    "files = list_objects(bucket_name=bucket_name_news)\n",
    "technology_file = files[files['Key'].str.find('Technology')>=0]['Key'].values[0]\n",
    "print('file_name',technology_file)"
   ]
  },
  {
   "cell_type": "code",
   "execution_count": 89,
   "metadata": {},
   "outputs": [
    {
     "data": {
      "text/html": [
       "<div>\n",
       "<style scoped>\n",
       "    .dataframe tbody tr th:only-of-type {\n",
       "        vertical-align: middle;\n",
       "    }\n",
       "\n",
       "    .dataframe tbody tr th {\n",
       "        vertical-align: top;\n",
       "    }\n",
       "\n",
       "    .dataframe thead th {\n",
       "        text-align: right;\n",
       "    }\n",
       "</style>\n",
       "<table border=\"1\" class=\"dataframe\">\n",
       "  <thead>\n",
       "    <tr style=\"text-align: right;\">\n",
       "      <th></th>\n",
       "      <th>link</th>\n",
       "      <th>og</th>\n",
       "      <th>source</th>\n",
       "      <th>source_icon</th>\n",
       "      <th>title</th>\n",
       "      <th>section</th>\n",
       "      <th>download_date</th>\n",
       "      <th>date</th>\n",
       "    </tr>\n",
       "  </thead>\n",
       "  <tbody>\n",
       "    <tr>\n",
       "      <th>0</th>\n",
       "      <td>https://news.google.com/articles/CBMiqgFodHRwc...</td>\n",
       "      <td>https://encrypted-tbn2.gstatic.com/images?q=tb...</td>\n",
       "      <td>Times of India</td>\n",
       "      <td>https://encrypted-tbn2.gstatic.com/faviconV2?u...</td>\n",
       "      <td>OpenAI CEO Sam Altman says Apple Vision Pro is...</td>\n",
       "      <td>Technology</td>\n",
       "      <td>2024-02-11 17:54:45.929840</td>\n",
       "      <td>2024-02-11</td>\n",
       "    </tr>\n",
       "    <tr>\n",
       "      <th>1</th>\n",
       "      <td>https://news.google.com/articles/CBMiNGh0dHBzO...</td>\n",
       "      <td>https://encrypted-tbn1.gstatic.com/images?q=tb...</td>\n",
       "      <td>9to5Google</td>\n",
       "      <td>https://encrypted-tbn3.gstatic.com/faviconV2?u...</td>\n",
       "      <td>Gemini voice commands no longer require you to...</td>\n",
       "      <td>Technology</td>\n",
       "      <td>2024-02-11 17:54:45.929840</td>\n",
       "      <td>2024-02-11</td>\n",
       "    </tr>\n",
       "    <tr>\n",
       "      <th>2</th>\n",
       "      <td>https://news.google.com/articles/CBMiP2h0dHA6L...</td>\n",
       "      <td>https://encrypted-tbn0.gstatic.com/images?q=tb...</td>\n",
       "      <td>BikeRadar</td>\n",
       "      <td>https://encrypted-tbn0.gstatic.com/faviconV2?u...</td>\n",
       "      <td>With Zwift planning to test Apple Vision Pro, ...</td>\n",
       "      <td>Technology</td>\n",
       "      <td>2024-02-11 17:54:45.929840</td>\n",
       "      <td>2024-02-11</td>\n",
       "    </tr>\n",
       "    <tr>\n",
       "      <th>3</th>\n",
       "      <td>https://news.google.com/articles/CBMihQFodHRwc...</td>\n",
       "      <td>https://encrypted-tbn2.gstatic.com/images?q=tb...</td>\n",
       "      <td>Engadget</td>\n",
       "      <td>https://encrypted-tbn1.gstatic.com/faviconV2?u...</td>\n",
       "      <td>Two of our favorite Anker power banks are on s...</td>\n",
       "      <td>Technology</td>\n",
       "      <td>2024-02-11 17:54:45.929840</td>\n",
       "      <td>2024-02-11</td>\n",
       "    </tr>\n",
       "    <tr>\n",
       "      <th>4</th>\n",
       "      <td>https://news.google.com/articles/CBMiamh0dHBzO...</td>\n",
       "      <td>https://encrypted-tbn2.gstatic.com/images?q=tb...</td>\n",
       "      <td>TechRadar</td>\n",
       "      <td>https://encrypted-tbn2.gstatic.com/faviconV2?u...</td>\n",
       "      <td>Whatever you do, don't buy a Samsung Galaxy S2...</td>\n",
       "      <td>Technology</td>\n",
       "      <td>2024-02-11 17:54:45.929840</td>\n",
       "      <td>2024-02-11</td>\n",
       "    </tr>\n",
       "    <tr>\n",
       "      <th>...</th>\n",
       "      <td>...</td>\n",
       "      <td>...</td>\n",
       "      <td>...</td>\n",
       "      <td>...</td>\n",
       "      <td>...</td>\n",
       "      <td>...</td>\n",
       "      <td>...</td>\n",
       "      <td>...</td>\n",
       "    </tr>\n",
       "    <tr>\n",
       "      <th>65</th>\n",
       "      <td>https://news.google.com/articles/CBMiQGh0dHBzO...</td>\n",
       "      <td>https://encrypted-tbn3.gstatic.com/images?q=tb...</td>\n",
       "      <td>Space.com</td>\n",
       "      <td>https://encrypted-tbn2.gstatic.com/faviconV2?u...</td>\n",
       "      <td>New 'Judas' game trailer teases a dystopian sc...</td>\n",
       "      <td>Technology</td>\n",
       "      <td>2024-02-11 17:54:45.929840</td>\n",
       "      <td>2024-02-11</td>\n",
       "    </tr>\n",
       "    <tr>\n",
       "      <th>66</th>\n",
       "      <td>https://news.google.com/articles/CCAiC3g0dS1JV...</td>\n",
       "      <td>https://encrypted-tbn3.gstatic.com/images?q=tb...</td>\n",
       "      <td>IGN</td>\n",
       "      <td>https://yt3.ggpht.com/aBCeBf7Qlr3OwsS-RB3Mgql_...</td>\n",
       "      <td>Florida Joker Wants to Voice Himself in GTA 6 ...</td>\n",
       "      <td>Technology</td>\n",
       "      <td>2024-02-11 17:54:45.929840</td>\n",
       "      <td>2024-02-11</td>\n",
       "    </tr>\n",
       "    <tr>\n",
       "      <th>67</th>\n",
       "      <td>https://news.google.com/articles/CBMiTGh0dHBzO...</td>\n",
       "      <td>https://encrypted-tbn2.gstatic.com/images?q=tb...</td>\n",
       "      <td>Fox News</td>\n",
       "      <td>https://encrypted-tbn3.gstatic.com/faviconV2?u...</td>\n",
       "      <td>How to know when it is time to replace your Mac</td>\n",
       "      <td>Technology</td>\n",
       "      <td>2024-02-11 17:54:45.929840</td>\n",
       "      <td>2024-02-11</td>\n",
       "    </tr>\n",
       "    <tr>\n",
       "      <th>68</th>\n",
       "      <td>https://news.google.com/articles/CBMiY2h0dHBzO...</td>\n",
       "      <td>https://encrypted-tbn0.gstatic.com/images?q=tb...</td>\n",
       "      <td>ScienceAlert</td>\n",
       "      <td>https://encrypted-tbn2.gstatic.com/faviconV2?u...</td>\n",
       "      <td>NASA Plan to Put a Nuclear Reactor on The Moon...</td>\n",
       "      <td>Technology</td>\n",
       "      <td>2024-02-11 17:54:45.929840</td>\n",
       "      <td>2024-02-11</td>\n",
       "    </tr>\n",
       "    <tr>\n",
       "      <th>69</th>\n",
       "      <td>https://news.google.com/articles/CBMiUWh0dHBzO...</td>\n",
       "      <td>https://encrypted-tbn0.gstatic.com/images?q=tb...</td>\n",
       "      <td>VideoCardz.com</td>\n",
       "      <td>https://encrypted-tbn1.gstatic.com/faviconV2?u...</td>\n",
       "      <td>NVIDIA preparing RTX 2000 ADA workstation desk...</td>\n",
       "      <td>Technology</td>\n",
       "      <td>2024-02-11 17:54:45.929840</td>\n",
       "      <td>2024-02-11</td>\n",
       "    </tr>\n",
       "  </tbody>\n",
       "</table>\n",
       "<p>70 rows × 8 columns</p>\n",
       "</div>"
      ],
      "text/plain": [
       "                                                 link  \\\n",
       "0   https://news.google.com/articles/CBMiqgFodHRwc...   \n",
       "1   https://news.google.com/articles/CBMiNGh0dHBzO...   \n",
       "2   https://news.google.com/articles/CBMiP2h0dHA6L...   \n",
       "3   https://news.google.com/articles/CBMihQFodHRwc...   \n",
       "4   https://news.google.com/articles/CBMiamh0dHBzO...   \n",
       "..                                                ...   \n",
       "65  https://news.google.com/articles/CBMiQGh0dHBzO...   \n",
       "66  https://news.google.com/articles/CCAiC3g0dS1JV...   \n",
       "67  https://news.google.com/articles/CBMiTGh0dHBzO...   \n",
       "68  https://news.google.com/articles/CBMiY2h0dHBzO...   \n",
       "69  https://news.google.com/articles/CBMiUWh0dHBzO...   \n",
       "\n",
       "                                                   og          source  \\\n",
       "0   https://encrypted-tbn2.gstatic.com/images?q=tb...  Times of India   \n",
       "1   https://encrypted-tbn1.gstatic.com/images?q=tb...      9to5Google   \n",
       "2   https://encrypted-tbn0.gstatic.com/images?q=tb...       BikeRadar   \n",
       "3   https://encrypted-tbn2.gstatic.com/images?q=tb...        Engadget   \n",
       "4   https://encrypted-tbn2.gstatic.com/images?q=tb...       TechRadar   \n",
       "..                                                ...             ...   \n",
       "65  https://encrypted-tbn3.gstatic.com/images?q=tb...       Space.com   \n",
       "66  https://encrypted-tbn3.gstatic.com/images?q=tb...             IGN   \n",
       "67  https://encrypted-tbn2.gstatic.com/images?q=tb...        Fox News   \n",
       "68  https://encrypted-tbn0.gstatic.com/images?q=tb...    ScienceAlert   \n",
       "69  https://encrypted-tbn0.gstatic.com/images?q=tb...  VideoCardz.com   \n",
       "\n",
       "                                          source_icon  \\\n",
       "0   https://encrypted-tbn2.gstatic.com/faviconV2?u...   \n",
       "1   https://encrypted-tbn3.gstatic.com/faviconV2?u...   \n",
       "2   https://encrypted-tbn0.gstatic.com/faviconV2?u...   \n",
       "3   https://encrypted-tbn1.gstatic.com/faviconV2?u...   \n",
       "4   https://encrypted-tbn2.gstatic.com/faviconV2?u...   \n",
       "..                                                ...   \n",
       "65  https://encrypted-tbn2.gstatic.com/faviconV2?u...   \n",
       "66  https://yt3.ggpht.com/aBCeBf7Qlr3OwsS-RB3Mgql_...   \n",
       "67  https://encrypted-tbn3.gstatic.com/faviconV2?u...   \n",
       "68  https://encrypted-tbn2.gstatic.com/faviconV2?u...   \n",
       "69  https://encrypted-tbn1.gstatic.com/faviconV2?u...   \n",
       "\n",
       "                                                title     section  \\\n",
       "0   OpenAI CEO Sam Altman says Apple Vision Pro is...  Technology   \n",
       "1   Gemini voice commands no longer require you to...  Technology   \n",
       "2   With Zwift planning to test Apple Vision Pro, ...  Technology   \n",
       "3   Two of our favorite Anker power banks are on s...  Technology   \n",
       "4   Whatever you do, don't buy a Samsung Galaxy S2...  Technology   \n",
       "..                                                ...         ...   \n",
       "65  New 'Judas' game trailer teases a dystopian sc...  Technology   \n",
       "66  Florida Joker Wants to Voice Himself in GTA 6 ...  Technology   \n",
       "67    How to know when it is time to replace your Mac  Technology   \n",
       "68  NASA Plan to Put a Nuclear Reactor on The Moon...  Technology   \n",
       "69  NVIDIA preparing RTX 2000 ADA workstation desk...  Technology   \n",
       "\n",
       "                 download_date        date  \n",
       "0   2024-02-11 17:54:45.929840  2024-02-11  \n",
       "1   2024-02-11 17:54:45.929840  2024-02-11  \n",
       "2   2024-02-11 17:54:45.929840  2024-02-11  \n",
       "3   2024-02-11 17:54:45.929840  2024-02-11  \n",
       "4   2024-02-11 17:54:45.929840  2024-02-11  \n",
       "..                         ...         ...  \n",
       "65  2024-02-11 17:54:45.929840  2024-02-11  \n",
       "66  2024-02-11 17:54:45.929840  2024-02-11  \n",
       "67  2024-02-11 17:54:45.929840  2024-02-11  \n",
       "68  2024-02-11 17:54:45.929840  2024-02-11  \n",
       "69  2024-02-11 17:54:45.929840  2024-02-11  \n",
       "\n",
       "[70 rows x 8 columns]"
      ]
     },
     "execution_count": 89,
     "metadata": {},
     "output_type": "execute_result"
    }
   ],
   "source": [
    "# get the file from s3 using boto3\n",
    "obj = s3.get_object(Bucket=bucket_name_news, Key=technology_file)\n",
    "data_tech = pd.read_csv(obj['Body'])\n",
    "\n",
    "data_tech"
   ]
  },
  {
   "cell_type": "markdown",
   "metadata": {},
   "source": [
    " ### 🏷️ Add tags to the bucket\n",
    " When creating a resource in the cloud, it is considered a best practice to add tags for organizing resources, controlling costs, or applying security policies based on these labels. The following code demonstrates how to add tags to a bucket using a method from the boto3 library."
   ]
  },
  {
   "cell_type": "code",
   "execution_count": 90,
   "metadata": {},
   "outputs": [
    {
     "data": {
      "text/plain": [
       "{'ResponseMetadata': {'RequestId': '4667f3d4-7b62-4576-bc49-819a236ed5c0',\n",
       "  'HostId': 's9lzHYrFp76ZVxRcpX9+5cjAnEH2ROuNkd2BHfIa6UkFVdtjf5mKR3/eTPFvsiP/XV/VLi31234=',\n",
       "  'HTTPStatusCode': 204,\n",
       "  'HTTPHeaders': {'content-type': 'application/xml',\n",
       "   'x-amz-request-id': '4667f3d4-7b62-4576-bc49-819a236ed5c0',\n",
       "   'x-amz-id-2': 's9lzHYrFp76ZVxRcpX9+5cjAnEH2ROuNkd2BHfIa6UkFVdtjf5mKR3/eTPFvsiP/XV/VLi31234=',\n",
       "   'connection': 'close',\n",
       "   'date': 'Sun, 11 Feb 2024 17:12:43 GMT',\n",
       "   'server': 'hypercorn-h11'},\n",
       "  'RetryAttempts': 0}}"
      ]
     },
     "execution_count": 90,
     "metadata": {},
     "output_type": "execute_result"
    }
   ],
   "source": [
    "s3.put_bucket_tagging(\n",
    "    Bucket=bucket_name_news,\n",
    "    Tagging={\n",
    "        'TagSet': [\n",
    "            {\n",
    "                'Key': 'Environment',\n",
    "                'Value': 'Test'\n",
    "            },\n",
    "            {\n",
    "                'Key': 'Project',\n",
    "                'Value': 'Localstack+Boto3'\n",
    "            }\n",
    "        ]\n",
    "    }\n",
    ")"
   ]
  },
  {
   "cell_type": "code",
   "execution_count": 93,
   "metadata": {},
   "outputs": [
    {
     "data": {
      "text/html": [
       "<div>\n",
       "<style scoped>\n",
       "    .dataframe tbody tr th:only-of-type {\n",
       "        vertical-align: middle;\n",
       "    }\n",
       "\n",
       "    .dataframe tbody tr th {\n",
       "        vertical-align: top;\n",
       "    }\n",
       "\n",
       "    .dataframe thead th {\n",
       "        text-align: right;\n",
       "    }\n",
       "</style>\n",
       "<table border=\"1\" class=\"dataframe\">\n",
       "  <thead>\n",
       "    <tr style=\"text-align: right;\">\n",
       "      <th></th>\n",
       "      <th>Key</th>\n",
       "      <th>Value</th>\n",
       "    </tr>\n",
       "  </thead>\n",
       "  <tbody>\n",
       "    <tr>\n",
       "      <th>0</th>\n",
       "      <td>Environment</td>\n",
       "      <td>Test</td>\n",
       "    </tr>\n",
       "    <tr>\n",
       "      <th>1</th>\n",
       "      <td>Project</td>\n",
       "      <td>Localstack+Boto3</td>\n",
       "    </tr>\n",
       "  </tbody>\n",
       "</table>\n",
       "</div>"
      ],
      "text/plain": [
       "           Key             Value\n",
       "0  Environment              Test\n",
       "1      Project  Localstack+Boto3"
      ]
     },
     "execution_count": 93,
     "metadata": {},
     "output_type": "execute_result"
    }
   ],
   "source": [
    "# get the tagging\n",
    "pd.json_normalize(s3.get_bucket_tagging(Bucket=bucket_name_news)['TagSet'])"
   ]
  },
  {
   "cell_type": "markdown",
   "metadata": {},
   "source": [
    "### 🔄 Versioning in the bucket\n",
    "Another good practice to apply is enabling versioning for your bucket. Versioning provides a way to recover and keep different versions of the same object. In the following code, we will create a file with the inventory of objects in the bucket and save the file twice. "
   ]
  },
  {
   "cell_type": "code",
   "execution_count": 94,
   "metadata": {},
   "outputs": [
    {
     "data": {
      "text/plain": [
       "{'ResponseMetadata': {'RequestId': '133b3c62-aa82-4faf-af13-cca5228c83d4',\n",
       "  'HostId': 's9lzHYrFp76ZVxRcpX9+5cjAnEH2ROuNkd2BHfIa6UkFVdtjf5mKR3/eTPFvsiP/XV/VLi31234=',\n",
       "  'HTTPStatusCode': 200,\n",
       "  'HTTPHeaders': {'content-type': 'application/xml',\n",
       "   'x-amz-request-id': '133b3c62-aa82-4faf-af13-cca5228c83d4',\n",
       "   'x-amz-id-2': 's9lzHYrFp76ZVxRcpX9+5cjAnEH2ROuNkd2BHfIa6UkFVdtjf5mKR3/eTPFvsiP/XV/VLi31234=',\n",
       "   'connection': 'close',\n",
       "   'content-length': '0',\n",
       "   'date': 'Sun, 11 Feb 2024 18:06:56 GMT',\n",
       "   'server': 'hypercorn-h11'},\n",
       "  'RetryAttempts': 0}}"
      ]
     },
     "execution_count": 94,
     "metadata": {},
     "output_type": "execute_result"
    }
   ],
   "source": [
    "\n",
    "# allow versioning in the bucket\n",
    "s3.put_bucket_versioning(\n",
    "    Bucket=bucket_name_news,\n",
    "    VersioningConfiguration={\n",
    "        'Status': 'Enabled'\n",
    "    }\n",
    ")\n",
    "\n"
   ]
  },
  {
   "cell_type": "code",
   "execution_count": 96,
   "metadata": {},
   "outputs": [
    {
     "data": {
      "text/plain": [
       "{'ResponseMetadata': {'RequestId': '533f69ad-a631-46d4-bbff-fa982be92bcd',\n",
       "  'HostId': 's9lzHYrFp76ZVxRcpX9+5cjAnEH2ROuNkd2BHfIa6UkFVdtjf5mKR3/eTPFvsiP/XV/VLi31234=',\n",
       "  'HTTPStatusCode': 200,\n",
       "  'HTTPHeaders': {'content-type': 'application/xml',\n",
       "   'etag': '\"9735f75dc2f10f885b3531d40bbef7b7\"',\n",
       "   'x-amz-server-side-encryption': 'AES256',\n",
       "   'x-amz-version-id': '8ZflZE-hRLua_o8GWkLQzA',\n",
       "   'x-amz-request-id': '533f69ad-a631-46d4-bbff-fa982be92bcd',\n",
       "   'x-amz-id-2': 's9lzHYrFp76ZVxRcpX9+5cjAnEH2ROuNkd2BHfIa6UkFVdtjf5mKR3/eTPFvsiP/XV/VLi31234=',\n",
       "   'connection': 'close',\n",
       "   'content-length': '0',\n",
       "   'date': 'Sun, 11 Feb 2024 18:30:03 GMT',\n",
       "   'server': 'hypercorn-h11'},\n",
       "  'RetryAttempts': 0},\n",
       " 'ETag': '\"9735f75dc2f10f885b3531d40bbef7b7\"',\n",
       " 'ServerSideEncryption': 'AES256',\n",
       " 'VersionId': '8ZflZE-hRLua_o8GWkLQzA'}"
      ]
     },
     "execution_count": 96,
     "metadata": {},
     "output_type": "execute_result"
    }
   ],
   "source": [
    "# Add new file to the bucket\n",
    "\n",
    "# file name\n",
    "file_name = 'inventory.csv'\n",
    "\n",
    "# list all objects in the bucket\n",
    "files = list_objects(bucket_name=bucket_name_news)\n",
    "bytes_io = io.BytesIO()\n",
    "files.to_csv(bytes_io, index=False)\n",
    "bytes_io.seek(0)\n",
    "# upload the data to s3\n",
    "s3.put_object(Bucket=bucket_name_news, Key=file_name, Body=bytes_io)\n",
    "\n"
   ]
  },
  {
   "cell_type": "code",
   "execution_count": 97,
   "metadata": {},
   "outputs": [
    {
     "data": {
      "text/plain": [
       "{'ResponseMetadata': {'RequestId': '0d521fb8-e63d-4277-ada9-b44595f1a257',\n",
       "  'HostId': 's9lzHYrFp76ZVxRcpX9+5cjAnEH2ROuNkd2BHfIa6UkFVdtjf5mKR3/eTPFvsiP/XV/VLi31234=',\n",
       "  'HTTPStatusCode': 200,\n",
       "  'HTTPHeaders': {'content-type': 'application/xml',\n",
       "   'etag': '\"d41d8cd98f00b204e9800998ecf8427e\"',\n",
       "   'x-amz-server-side-encryption': 'AES256',\n",
       "   'x-amz-version-id': 'hrasQC8zpVfHThaKL5mZ9g',\n",
       "   'x-amz-request-id': '0d521fb8-e63d-4277-ada9-b44595f1a257',\n",
       "   'x-amz-id-2': 's9lzHYrFp76ZVxRcpX9+5cjAnEH2ROuNkd2BHfIa6UkFVdtjf5mKR3/eTPFvsiP/XV/VLi31234=',\n",
       "   'connection': 'close',\n",
       "   'content-length': '0',\n",
       "   'date': 'Sun, 11 Feb 2024 18:30:18 GMT',\n",
       "   'server': 'hypercorn-h11'},\n",
       "  'RetryAttempts': 0},\n",
       " 'ETag': '\"d41d8cd98f00b204e9800998ecf8427e\"',\n",
       " 'ServerSideEncryption': 'AES256',\n",
       " 'VersionId': 'hrasQC8zpVfHThaKL5mZ9g'}"
      ]
     },
     "execution_count": 97,
     "metadata": {},
     "output_type": "execute_result"
    }
   ],
   "source": [
    "# add again the same file\n",
    "s3.put_object(Bucket=bucket_name_news, Key=file_name, Body=bytes_io)"
   ]
  },
  {
   "cell_type": "code",
   "execution_count": 107,
   "metadata": {},
   "outputs": [
    {
     "data": {
      "text/html": [
       "<div>\n",
       "<style scoped>\n",
       "    .dataframe tbody tr th:only-of-type {\n",
       "        vertical-align: middle;\n",
       "    }\n",
       "\n",
       "    .dataframe tbody tr th {\n",
       "        vertical-align: top;\n",
       "    }\n",
       "\n",
       "    .dataframe thead th {\n",
       "        text-align: right;\n",
       "    }\n",
       "</style>\n",
       "<table border=\"1\" class=\"dataframe\">\n",
       "  <thead>\n",
       "    <tr style=\"text-align: right;\">\n",
       "      <th></th>\n",
       "      <th>ETag</th>\n",
       "      <th>Size</th>\n",
       "      <th>StorageClass</th>\n",
       "      <th>Key</th>\n",
       "      <th>VersionId</th>\n",
       "      <th>IsLatest</th>\n",
       "      <th>LastModified</th>\n",
       "      <th>Owner.DisplayName</th>\n",
       "      <th>Owner.ID</th>\n",
       "    </tr>\n",
       "  </thead>\n",
       "  <tbody>\n",
       "    <tr>\n",
       "      <th>0</th>\n",
       "      <td>\"d41d8cd98f00b204e9800998ecf8427e\"</td>\n",
       "      <td>0</td>\n",
       "      <td>STANDARD</td>\n",
       "      <td>inventory.csv</td>\n",
       "      <td>hrasQC8zpVfHThaKL5mZ9g</td>\n",
       "      <td>True</td>\n",
       "      <td>2024-02-11 18:30:18+00:00</td>\n",
       "      <td>webfile</td>\n",
       "      <td>75aa57f09aa0c8caeab4f8c24e99d10f8e7faeebf76c07...</td>\n",
       "    </tr>\n",
       "    <tr>\n",
       "      <th>1</th>\n",
       "      <td>\"9735f75dc2f10f885b3531d40bbef7b7\"</td>\n",
       "      <td>1709</td>\n",
       "      <td>STANDARD</td>\n",
       "      <td>inventory.csv</td>\n",
       "      <td>8ZflZE-hRLua_o8GWkLQzA</td>\n",
       "      <td>False</td>\n",
       "      <td>2024-02-11 18:30:03+00:00</td>\n",
       "      <td>webfile</td>\n",
       "      <td>75aa57f09aa0c8caeab4f8c24e99d10f8e7faeebf76c07...</td>\n",
       "    </tr>\n",
       "  </tbody>\n",
       "</table>\n",
       "</div>"
      ],
      "text/plain": [
       "                                 ETag  Size StorageClass            Key  \\\n",
       "0  \"d41d8cd98f00b204e9800998ecf8427e\"     0     STANDARD  inventory.csv   \n",
       "1  \"9735f75dc2f10f885b3531d40bbef7b7\"  1709     STANDARD  inventory.csv   \n",
       "\n",
       "                VersionId  IsLatest              LastModified  \\\n",
       "0  hrasQC8zpVfHThaKL5mZ9g      True 2024-02-11 18:30:18+00:00   \n",
       "1  8ZflZE-hRLua_o8GWkLQzA     False 2024-02-11 18:30:03+00:00   \n",
       "\n",
       "  Owner.DisplayName                                           Owner.ID  \n",
       "0           webfile  75aa57f09aa0c8caeab4f8c24e99d10f8e7faeebf76c07...  \n",
       "1           webfile  75aa57f09aa0c8caeab4f8c24e99d10f8e7faeebf76c07...  "
      ]
     },
     "execution_count": 107,
     "metadata": {},
     "output_type": "execute_result"
    }
   ],
   "source": [
    "# List all the version of the object\n",
    "versions = s3.list_object_versions(Bucket=bucket_name, Prefix=file_name)\n",
    "\n",
    "pd.json_normalize(versions['Versions'])"
   ]
  },
  {
   "cell_type": "markdown",
   "metadata": {},
   "source": [
    "### 🗑️ Create a static site using s3 bucket\n",
    "\n",
    "In this section, we need to utilize a different command, which requires prior installation of the `awscli-local` tool specifically designed for use with **LocalStack**.\n",
    "\n",
    "The `awscli-local` tool facilitates developers in seamlessly engaging with the **LocalStack** instance, because you can automatically redirecting commands to local endpoints instead of real AWS endpoints."
   ]
  },
  {
   "cell_type": "code",
   "execution_count": null,
   "metadata": {},
   "outputs": [],
   "source": [
    "# install awslocal to use the cli to interact with localstack\n",
    "!pip3.11 install awscli-local"
   ]
  },
  {
   "cell_type": "code",
   "execution_count": 118,
   "metadata": {},
   "outputs": [
    {
     "name": "stdout",
     "output_type": "stream",
     "text": [
      "{\n",
      "    \"Location\": \"/docs-web\"\n",
      "}\n",
      "upload: static-site/error.html to s3://docs-web/error.html       \n",
      "upload: static-site/index.html to s3://docs-web/index.html       \n",
      "upload: static-site/img/img_localstack.png to s3://docs-web/img/img_localstack.png\n"
     ]
    }
   ],
   "source": [
    "# the following command creates a static website in s3\n",
    "!awslocal s3api create-bucket --bucket docs-web\n",
    "# add the website configuration\n",
    "!awslocal s3 website s3://docs-web/ --index-document index.html --error-document error.html\n",
    "# syncronize the static site with the s3 bucket\n",
    "!awslocal s3 sync static-site s3://docs-web\n",
    "\n",
    "#------------------------------------------------------------------------------------------\n",
    "\n",
    "# If you are using localstack, you can access the website using the following url\n",
    "#  http://docs-web.s3-website.localhost.localstack.cloud:4566/\n",
    "\n",
    "\n",
    "#------------------------------------------------------------------------------------------"
   ]
  },
  {
   "cell_type": "markdown",
   "metadata": {},
   "source": [
    "Url Site: http://docs-web.s3-website.localhost.localstack.cloud:4566/\n",
    "\n",
    "![](img/localstack-static-site.png)"
   ]
  },
  {
   "cell_type": "markdown",
   "metadata": {},
   "source": [
    "# 📚 References\n",
    "If you want to learn...\n",
    "\n",
    "* [AWS Boto3](https://boto3.amazonaws.com/v1/documentation/api/latest/guide/quickstart.html#installation)\n",
    "* [LocalStack](https://docs.localstack.cloud/overview/)\n",
    "* [API:OkSurf News](https://ok.surf/#endpoints)"
   ]
  }
 ],
 "metadata": {
  "kernelspec": {
   "display_name": "Python 3",
   "language": "python",
   "name": "python3"
  },
  "language_info": {
   "codemirror_mode": {
    "name": "ipython",
    "version": 3
   },
   "file_extension": ".py",
   "mimetype": "text/x-python",
   "name": "python",
   "nbconvert_exporter": "python",
   "pygments_lexer": "ipython3",
   "version": "3.11.6"
  }
 },
 "nbformat": 4,
 "nbformat_minor": 2
}
